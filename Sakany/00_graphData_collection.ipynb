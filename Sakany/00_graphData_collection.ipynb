{
 "cells": [
  {
   "cell_type": "markdown",
   "metadata": {},
   "source": [
    "# Generation of graph data from existing graphs"
   ]
  },
  {
   "cell_type": "code",
   "execution_count": null,
   "metadata": {},
   "outputs": [],
   "source": [
    "import networkx\n",
    "import numpy as np\n",
    "\n",
    "import matplotlib.pyplot as plt\n",
    "import pyvista as pv\n",
    "import os\n",
    "\n",
    "import pickle"
   ]
  },
  {
   "cell_type": "code",
   "execution_count": null,
   "metadata": {},
   "outputs": [],
   "source": [
    "# Choose backend for matplotlib\n",
    "# -----------------------------\n",
    "from IPython import get_ipython\n",
    "# get_ipython().run_line_magic('matplotlib', 'widget')\n",
    "get_ipython().run_line_magic('matplotlib', 'inline')\n",
    "\n",
    "# Or simply:\n",
    "# %matplotlib widget\n",
    "# %matplotlib inline"
   ]
  },
  {
   "cell_type": "code",
   "execution_count": null,
   "metadata": {},
   "outputs": [],
   "source": [
    "# Choose backend for pyvista with jupyter\n",
    "# ---------------------------------------\n",
    "# pv.set_jupyter_backend('trame')  # 3D-interactive plots\n",
    "pv.set_jupyter_backend('static') # static plots\n",
    "\n",
    "# Notes:\n",
    "# -> ignored if run in a standard python shell\n",
    "# -> use keyword argument \"notebook=False\" in Plotter() to open figure in a pop-up window"
   ]
  },
  {
   "cell_type": "markdown",
   "metadata": {},
   "source": [
    "## Load local functions "
   ]
  },
  {
   "cell_type": "code",
   "execution_count": null,
   "metadata": {},
   "outputs": [],
   "source": [
    "print('Load local functions...')\n",
    "\n",
    "# import sys\n",
    "# sys.path.insert(1, '../utils/')\n",
    "\n",
    "# from graph_utils import *\n",
    "# from graph_plot import *\n",
    "# # from magic_utils import *\n",
    "\n",
    "with open('../utils/graph_utils.py') as f: exec(f.read())\n",
    "with open('../utils/graph_plot.py') as f: exec(f.read())\n",
    "# with open('../utils/magic_utils.py') as f: exec(f.read())"
   ]
  },
  {
   "cell_type": "markdown",
   "metadata": {},
   "source": [
    "## Load parameters\n",
    "\n",
    "Some parameters (dimension / attribute considered and indexes / parameters for plotting graphs)\n"
   ]
  },
  {
   "cell_type": "code",
   "execution_count": null,
   "metadata": {},
   "outputs": [],
   "source": [
    "print('Load parameters...')\n",
    "\n",
    "# from params import *\n",
    "\n",
    "with open('params.py') as f: exec(f.read())"
   ]
  },
  {
   "cell_type": "markdown",
   "metadata": {},
   "source": [
    "## Output settings"
   ]
  },
  {
   "cell_type": "code",
   "execution_count": null,
   "metadata": {},
   "outputs": [],
   "source": [
    "print('Define output settings...')\n",
    "\n",
    "# Settings \n",
    "# ========\n",
    "\n",
    "# Output directories\n",
    "# ------------------\n",
    "out_dir = 'data_gen' # PARAMS\n",
    "fig_dir = 'fig'      # PARAMS\n",
    "\n",
    "plt_show = True      # PARAMS (show graphics 2D ?)\n",
    "off_screen = False   # PARAMS (show graphics 3D ?)\n",
    "\n",
    "save_fig_png = True  # PARAMS\n",
    "fig_prefix = '00'    # PARAMS\n",
    "\n",
    "fig_counter = 0\n",
    "\n",
    "if not os.path.isdir(out_dir):\n",
    "    os.mkdir(out_dir)\n",
    "\n",
    "if not os.path.isdir(fig_dir):\n",
    "    os.mkdir(fig_dir)\n",
    "\n",
    "# Files for saving data set / test set (pickle, text file) (see further)\n",
    "# ----------------------------------------------------------------------\n",
    "filename_data_set_pk = os.path.join(out_dir, f'graph_collection_data_set.pickle')\n",
    "filename_test_set_pk = os.path.join(out_dir, f'graph_collection_test_set.pickle')\n",
    "\n",
    "filename_data_set_basename_txt = 'graph_collection_data_set'\n",
    "filename_test_set_basename_txt = 'graph_collection_test_set'\n"
   ]
  },
  {
   "cell_type": "markdown",
   "metadata": {},
   "source": [
    "## Do not edit ABOVE"
   ]
  },
  {
   "cell_type": "markdown",
   "metadata": {},
   "source": [
    "## Input : main graph"
   ]
  },
  {
   "cell_type": "code",
   "execution_count": null,
   "metadata": {},
   "outputs": [],
   "source": [
    "print('Read main graph...')\n",
    "\n",
    "# Read main graph\n",
    "# ---------------\n",
    "# Read from pickle file\n",
    "input_file = f'data/Graph_Sakany.pickle'  # PARAMS\n",
    "\n",
    "with open(input_file, 'rb') as f:\n",
    "    G_main = pickle.load(f)\n",
    "\n",
    "G_main = networkx.convert_node_labels_to_integers(G_main)\n",
    "\n",
    "print(f'Nb of connected components: {networkx.number_connected_components(G_main)}')\n"
   ]
  },
  {
   "cell_type": "code",
   "execution_count": null,
   "metadata": {},
   "outputs": [],
   "source": [
    "print('Plot all connected components (2D)...')\n",
    "\n",
    "# Plot all connected components (2D)\n",
    "kwds = kwds_single.copy()\n",
    "\n",
    "kwds['node_size'] = 20 # adapt node size\n",
    "# kwds['width'] = .5     # adapt edge width\n",
    "\n",
    "figsize = figsize_single\n",
    "# -----\n",
    "\n",
    "out_name = 'all_components'\n",
    "plot_graph_single_2d_from_G_networkx(G_main, out_name=out_name, attr=None, \n",
    "                                     save_fig_png=save_fig_png,\n",
    "                                     filename_prefix=f'{fig_dir}/{fig_prefix}_{fig_counter:02d}',\n",
    "                                     show=plt_show, \n",
    "                                     **kwds)\n"
   ]
  },
  {
   "cell_type": "code",
   "execution_count": null,
   "metadata": {},
   "outputs": [],
   "source": [
    "print('Extract the largest connected component...')\n",
    "\n",
    "# Extract the largest connected component\n",
    "G_main_subgraphs_nodes = list(networkx.connected_components(G_main))\n",
    "\n",
    "ind = np.argmax([len(Gn) for Gn in G_main_subgraphs_nodes])\n",
    "\n",
    "G_main = G_main.subgraph(G_main_subgraphs_nodes[ind]).copy()\n",
    "\n",
    "# renumbering nodes\n",
    "G_main = networkx.convert_node_labels_to_integers(G_main)"
   ]
  },
  {
   "cell_type": "code",
   "execution_count": null,
   "metadata": {},
   "outputs": [],
   "source": [
    "print('Plot largest connected component (2D)...')\n",
    "\n",
    "# Plot largest connected component (2D)\n",
    "kwds = kwds_single.copy()\n",
    "\n",
    "kwds['node_size'] = 20 # adapt node size\n",
    "# kwds['width'] = .5     # adapt edge width\n",
    "\n",
    "figsize = figsize_single\n",
    "# -----\n",
    "\n",
    "out_name = 'largest_component'\n",
    "plot_graph_single_2d_from_G_networkx(G_main, out_name=out_name, attr=None, \n",
    "                                     save_fig_png=save_fig_png,\n",
    "                                     filename_prefix=f'{fig_dir}/{fig_prefix}_{fig_counter:02d}',\n",
    "                                     show=plt_show, \n",
    "                                     **kwds)"
   ]
  },
  {
   "cell_type": "code",
   "execution_count": null,
   "metadata": {},
   "outputs": [],
   "source": [
    "print('Set attributes...')\n",
    "\n",
    "# Set attribute(s) \n",
    "# ================\n",
    "# Add nodata values for missing attribute\n",
    "# ---------------------------------------\n",
    "attr_init = 'csdim'  # PARAMS\n",
    "nodata = [np.nan, np.nan]\n",
    "\n",
    "for i in range(G_main.number_of_nodes()):\n",
    "    if attr_init not in G_main.nodes[i].keys():\n",
    "        G_main.nodes[i][attr_init] = nodata\n",
    "\n",
    "# Get \"csdim (cross-section width height)\" measures in array\n",
    "v = np.asarray(list(networkx.get_node_attributes(G_main, attr_init).values()))\n",
    "\n",
    "# Replace nan or zero values, by the mean of their neighbor\n",
    "v = np.asarray(list(networkx.get_node_attributes(G_main, attr_init).values()))\n",
    "for i in range(v.shape[1]):\n",
    "    while True:\n",
    "        node_id = np.where(np.any((np.isnan(v[:, i]), np.isclose(v[:, i], 0)), axis=0))[0]\n",
    "        if len(node_id) == 0:\n",
    "            break\n",
    "        # print(len(node_id))\n",
    "        for j in node_id:\n",
    "            neighbors = np.asarray(list(G_main.edges(j)))[:, 1]\n",
    "            # print(j, neighbors, radius[neighbors])\n",
    "            ind = np.all((~np.isnan(v[neighbors, i]), ~np.isclose(v[neighbors, i], 0)), axis=0)\n",
    "            # print('ind', ind)\n",
    "            if np.any(ind):\n",
    "                v[j] = np.mean(v[neighbors, i][ind])\n",
    "                # print('mean', v[j])\n",
    "\n",
    "# take the log10\n",
    "v = np.log10(v)"
   ]
  },
  {
   "cell_type": "code",
   "execution_count": null,
   "metadata": {},
   "outputs": [],
   "source": [
    "print('Plot histogram of attributes...')\n",
    "\n",
    "# Plot\n",
    "# ----\n",
    "figsize = figsize_lh3\n",
    "\n",
    "n = v.shape[1]\n",
    "v_mean = v.mean(axis=0)\n",
    "\n",
    "plt.subplots(1, n, figsize=figsize)\n",
    "\n",
    "for i in range(n):\n",
    "    plt.subplot(1, n, i+1)\n",
    "    plt.hist(v[:, i], bins=20)\n",
    "    plt.axvline(v_mean[i], ls='dashed', c='purple')\n",
    "    plt.title(f'{attr_label_list[i]} (mean={v_mean[i]:.5g})')\n",
    "\n",
    "if save_fig_png:\n",
    "    plt.tight_layout()\n",
    "    plt.savefig(f'{fig_dir}/{fig_prefix}_tmp_attr_hist.png')\n",
    "    #fig_counter = fig_counter+1\n",
    "\n",
    "if plt_show:\n",
    "    plt.show()\n",
    "else:\n",
    "    plt.close()"
   ]
  },
  {
   "cell_type": "code",
   "execution_count": null,
   "metadata": {},
   "outputs": [],
   "source": [
    "print('Set main graph (networkx)...')\n",
    "\n",
    "# Set v as new attribute; note: `attr` is defined in params.py\n",
    "dict_attr = {i:list(np.atleast_1d(vi)) for i, vi in enumerate(v)}\n",
    "networkx.set_node_attributes(G_main, dict_attr, attr)\n",
    "\n",
    "# Keep relevant node attributes\n",
    "G_main = remove_all_node_attributes_but(G_main, ['pos', attr])"
   ]
  },
  {
   "cell_type": "markdown",
   "metadata": {},
   "source": [
    "## Plot main graph"
   ]
  },
  {
   "cell_type": "code",
   "execution_count": null,
   "metadata": {},
   "outputs": [],
   "source": [
    "print('Plot main graph (2D)...')\n",
    "\n",
    "# Plot main graph 2d\n",
    "# ==================\n",
    "kwds = kwds_single.copy()\n",
    "\n",
    "kwds['node_size'] = 20 # adapt node size\n",
    "# kwds['width'] = .5     # adapt edge width\n",
    "\n",
    "figsize = figsize_single\n",
    "# -----\n",
    "\n",
    "out_name = 'main_graph'\n",
    "plot_graph_single_2d_from_G_networkx(\n",
    "        G_main, \n",
    "        out_name=out_name, \n",
    "        attr=attr,\n",
    "        attr_label_list=attr_label_list, \n",
    "        attr_cmap_list=attr_cmap_list,\n",
    "        title=None, title_fontsize=12,\n",
    "        figsize=figsize, save_fig_png=save_fig_png, \n",
    "        filename_prefix=f'{fig_dir}/{fig_prefix}_{fig_counter:02d}',\n",
    "        with_labels=False, show_color_bar=True,\n",
    "        show=plt_show,\n",
    "        **kwds)\n"
   ]
  },
  {
   "cell_type": "code",
   "execution_count": null,
   "metadata": {},
   "outputs": [],
   "source": [
    "print('Plot main graph (3D)...')\n",
    "\n",
    "# Plot main graph 3d\n",
    "# ==================\n",
    "kwargs_edges = kwargs_edges_single.copy()\n",
    "kwargs_pts = kwargs_pts_single.copy()\n",
    "kwargs_pts_labels = kwargs_pts_labels_single.copy()\n",
    "kwargs_scalar_bar = kwargs_scalar_bar_single.copy()\n",
    "\n",
    "kwargs_pts['point_size'] = 8 # adapt node size\n",
    "# kwargs_edges['line_width'] = # adapt edge width\n",
    "\n",
    "window_size = window_size_single\n",
    "# -----\n",
    "\n",
    "# notebook = False # pop-up window\n",
    "# cpos = None\n",
    "\n",
    "# notebook = True  # inline\n",
    "# cpos = \\\n",
    "# [(517786.43175783526, 171033.62200323722, 3228.2267989145184),\n",
    "#  (516160.734375, 171889.74, 813.3000061035157),\n",
    "#  (-0.798043530972574, 0.13872899139143935, 0.5864134971334989)]\n",
    "\n",
    "notebook = True  # inline\n",
    "cpos = None\n",
    "\n",
    "out_name = 'main_graph'\n",
    "plot_graph_single_3d_from_G_networkx(\n",
    "        G_main, \n",
    "        out_name=out_name, \n",
    "        attr=attr,\n",
    "        attr_label_list=attr_label_list, \n",
    "        attr_cmap_list=attr_cmap_list,\n",
    "        title=None, title_fontsize=12,\n",
    "        notebook=notebook, window_size=window_size, save_fig_png=save_fig_png, off_screen=off_screen,\n",
    "        filename_prefix=f'{fig_dir}/{fig_prefix}_{fig_counter:02d}',\n",
    "        with_labels=False, show_color_bar=True,\n",
    "        kwargs_edges=kwargs_edges, kwargs_pts=kwargs_pts, kwargs_scalar_bar=kwargs_scalar_bar, kwargs_pts_labels=kwargs_pts_labels,\n",
    "        cpos=cpos, print_cpos=False)\n"
   ]
  },
  {
   "cell_type": "code",
   "execution_count": null,
   "metadata": {},
   "outputs": [],
   "source": [
    "if save_fig_png:\n",
    "    fig_counter = fig_counter+1\n"
   ]
  },
  {
   "cell_type": "markdown",
   "metadata": {},
   "source": [
    "## Generate data - collection of subgraphs"
   ]
  },
  {
   "cell_type": "code",
   "execution_count": null,
   "metadata": {},
   "outputs": [],
   "source": [
    "print('Define settings for collection of subgraphs...')\n",
    "\n",
    "# Settings\n",
    "# --------\n",
    "# # min and max number of nodes to extract for each subgraph\n",
    "# min_n_nodes, max_n_nodes = 120, 150\n",
    "\n",
    "# mean and std for number of nodes (gaussian) to extract for each subgraph\n",
    "mean_n_nodes, std_n_nodes = 75.0, 7.5\n",
    "min_n_nodes = 8 # Truncated distribution\n",
    "\n",
    "n_subgraph_data_set = 500\n",
    "n_subgraph_test_set = 100\n"
   ]
  },
  {
   "cell_type": "markdown",
   "metadata": {},
   "source": [
    "## Do not edit BELOW"
   ]
  },
  {
   "cell_type": "markdown",
   "metadata": {},
   "source": [
    "### Build collection - training set"
   ]
  },
  {
   "cell_type": "code",
   "execution_count": null,
   "metadata": {},
   "outputs": [],
   "source": [
    "print('Generate data set (collection of subgraphs)...')\n",
    "\n",
    "# Generate list of subgraphs - data set\n",
    "# -------------------------------------\n",
    "seed = 923\n",
    "\n",
    "np.random.seed(seed)\n",
    "# n_nodes = np.random.randint(min_n_nodes, max_n_nodes+1, n_subgraph_data_set)\n",
    "\n",
    "n_nodes = np.round(np.random.normal(loc=mean_n_nodes, scale=std_n_nodes, size=n_subgraph_data_set)).astype('int')\n",
    "while np.any(n_nodes < min_n_nodes):\n",
    "    m = np.sum(n_nodes < min_n_nodes) # > 0\n",
    "    print(f'Reject number of nodes ({m}) too small (<{min_n_nodes}) and redraw...')\n",
    "    n_nodes[n_nodes < min_n_nodes] = np.round(np.random.normal(loc=mean_n_nodes, scale=std_n_nodes, size=m)).astype('int')\n",
    "\n",
    "G_list_data_set = [extract_subgraph_from_bfs(G_main, n) for n in n_nodes]\n",
    "\n",
    "# # Express node features (position) in PCA axes (no normalization)\n",
    "# for G in G_list_data_set:\n",
    "#     G = pca_graph_node_features(G, 'pos', normalize=False, return_initial_mean_and_pca=False) # inplace operation\n",
    "\n",
    "# Centralize graphs (mean at zero)\n",
    "for G in G_list_data_set:\n",
    "    G = centralize_graph_node_features(G, 'pos', inplace=True, return_initial_mean=False)\n"
   ]
  },
  {
   "cell_type": "code",
   "execution_count": null,
   "metadata": {},
   "outputs": [],
   "source": [
    "print('Plot data set (2D)...')\n",
    "\n",
    "G_list = G_list_data_set[:16]\n",
    "out_name = 'graph_collection_data_set'\n",
    "\n",
    "# 2D view\n",
    "# =======\n",
    "kwds = kwds_multi.copy()\n",
    "\n",
    "figsize = figsize_multi\n",
    "# -----\n",
    "\n",
    "same_color_bar = False\n",
    "\n",
    "plot_graph_multi_2d_from_G_networkx_list(\n",
    "        G_list, \n",
    "        out_name=out_name, \n",
    "        nr=None,\n",
    "        attr=attr,\n",
    "        attr_label_list=attr_label_list, \n",
    "        attr_cmap_list=attr_cmap_list,\n",
    "        title_list=None, title_fontsize=12,\n",
    "        figsize=figsize, save_fig_png=save_fig_png, \n",
    "        filename_prefix=f'{fig_dir}/{fig_prefix}_{fig_counter:02d}',\n",
    "        with_labels=False, same_color_bar=same_color_bar, show_color_bar=True,\n",
    "        show=plt_show,\n",
    "        **kwds)"
   ]
  },
  {
   "cell_type": "code",
   "execution_count": null,
   "metadata": {},
   "outputs": [],
   "source": [
    "# %%skip_if dim == 2\n",
    "if dim == 3:\n",
    "    print('Plot data set (3D)...')\n",
    "\n",
    "    G_list = G_list_data_set[:9]\n",
    "    out_name = 'graph_collection_data_set'\n",
    "\n",
    "    # Plot first graphs - 3d\n",
    "    # ======================\n",
    "    kwargs_edges = kwargs_edges_multi.copy()\n",
    "    kwargs_pts = kwargs_pts_multi.copy()\n",
    "    kwargs_pts_labels = kwargs_pts_labels_multi.copy()\n",
    "    kwargs_scalar_bar = kwargs_scalar_bar_multi.copy()\n",
    "\n",
    "    window_size = window_size_multi\n",
    "    # -----\n",
    "\n",
    "    # notebook = False # pop-up window\n",
    "    # cpos = None\n",
    "\n",
    "    # notebook = True  # inline\n",
    "    # cpos = \\\n",
    "    # [(410.42840368821584, -176.08643814594834, 230.59557647292922),\n",
    "    #  (4.909560043666214, -1.6530085484822958, -26.67373480252808),\n",
    "    #  (-0.4692582625497324, 0.18316710716520687, 0.8638555978180245)]\n",
    "\n",
    "    notebook = True  # inline\n",
    "    cpos = None\n",
    "\n",
    "    same_color_bar = False\n",
    "\n",
    "    plot_graph_multi_3d_from_G_networkx_list(\n",
    "            G_list, \n",
    "            out_name=out_name, \n",
    "            nr=None,\n",
    "            attr=attr,\n",
    "            attr_label_list=attr_label_list, \n",
    "            attr_cmap_list=attr_cmap_list,\n",
    "            title_list=None, title_fontsize=12,\n",
    "            notebook=notebook, window_size=window_size, save_fig_png=save_fig_png, off_screen=off_screen,\n",
    "            filename_prefix=f'{fig_dir}/{fig_prefix}_{fig_counter:02d}',\n",
    "            with_labels=False, same_color_bar=same_color_bar, show_color_bar=True,\n",
    "            kwargs_edges=kwargs_edges, kwargs_pts=kwargs_pts, kwargs_scalar_bar=kwargs_scalar_bar, kwargs_pts_labels=kwargs_pts_labels,\n",
    "            cpos=cpos, print_cpos=False)\n"
   ]
  },
  {
   "cell_type": "code",
   "execution_count": null,
   "metadata": {},
   "outputs": [],
   "source": [
    "if save_fig_png:\n",
    "    fig_counter = fig_counter+1\n"
   ]
  },
  {
   "cell_type": "markdown",
   "metadata": {},
   "source": [
    "### Build collection - test set"
   ]
  },
  {
   "cell_type": "code",
   "execution_count": null,
   "metadata": {},
   "outputs": [],
   "source": [
    "print('Generate test set (collection of subgraphs)...')\n",
    "\n",
    "# Generate list of subgraphs\n",
    "# --------------------------\n",
    "seed = 888\n",
    "\n",
    "np.random.seed(seed)\n",
    "# n_nodes = np.random.randint(min_n_nodes, max_n_nodes+1, n_subgraph_test_set)\n",
    "\n",
    "n_nodes = np.round(np.random.normal(loc=mean_n_nodes, scale=std_n_nodes, size=n_subgraph_test_set)).astype('int')\n",
    "while np.any(n_nodes < min_n_nodes):\n",
    "    m = np.sum(n_nodes < min_n_nodes) # > 0\n",
    "    print(f'Reject number of nodes ({m}) too small (<{min_n_nodes}) and redraw...')\n",
    "    n_nodes[n_nodes < min_n_nodes] = np.round(np.random.normal(loc=mean_n_nodes, scale=std_n_nodes, size=m)).astype('int')\n",
    "\n",
    "G_list_test_set = [extract_subgraph_from_bfs(G_main, n) for n in n_nodes]\n",
    "\n",
    "# # Express node features (position) in PCA axes (no normalization)\n",
    "# for G in G_list:\n",
    "#     G = pca_graph_node_features(G, 'pos', normalize=False, return_initial_mean_and_pca=False) # inplace operation\n",
    "\n",
    "# Centralize graphs (mean at zero)\n",
    "for G in G_list_test_set:\n",
    "    G = centralize_graph_node_features(G, 'pos', inplace=True, return_initial_mean=False)\n"
   ]
  },
  {
   "cell_type": "code",
   "execution_count": null,
   "metadata": {},
   "outputs": [],
   "source": [
    "print('Plot test set (2D)...')\n",
    "\n",
    "G_list = G_list_test_set[:16]\n",
    "out_name = 'graph_collection_test_set'\n",
    "\n",
    "# 2D view\n",
    "# =======\n",
    "kwds = kwds_multi.copy()\n",
    "\n",
    "figsize = figsize_multi\n",
    "# -----\n",
    "\n",
    "same_color_bar = False\n",
    "\n",
    "plot_graph_multi_2d_from_G_networkx_list(\n",
    "        G_list, \n",
    "        out_name=out_name, \n",
    "        nr=None,\n",
    "        attr=attr,\n",
    "        attr_label_list=attr_label_list, \n",
    "        attr_cmap_list=attr_cmap_list,\n",
    "        title_list=None, title_fontsize=12,\n",
    "        figsize=figsize, save_fig_png=save_fig_png, \n",
    "        filename_prefix=f'{fig_dir}/{fig_prefix}_{fig_counter:02d}',\n",
    "        with_labels=False, same_color_bar=same_color_bar, show_color_bar=True,\n",
    "        show=plt_show,\n",
    "        **kwds)"
   ]
  },
  {
   "cell_type": "code",
   "execution_count": null,
   "metadata": {},
   "outputs": [],
   "source": [
    "# %%skip_if dim == 2\n",
    "if dim == 3:\n",
    "    print('Plot test set (3D)...')\n",
    "\n",
    "    G_list = G_list_test_set[:9]\n",
    "    out_name = 'graph_collection_test_set'\n",
    "\n",
    "    # Plot first graphs - 3d\n",
    "    # ======================\n",
    "    kwargs_edges = kwargs_edges_multi.copy()\n",
    "    kwargs_pts = kwargs_pts_multi.copy()\n",
    "    kwargs_pts_labels = kwargs_pts_labels_multi.copy()\n",
    "    kwargs_scalar_bar = kwargs_scalar_bar_multi.copy()\n",
    "\n",
    "    window_size = window_size_multi\n",
    "    # -----\n",
    "\n",
    "    # notebook = False # pop-up window\n",
    "    # cpos = None\n",
    "\n",
    "    # notebook = True  # inline\n",
    "    # cpos = \\\n",
    "    # [(410.42840368821584, -176.08643814594834, 230.59557647292922),\n",
    "    #  (4.909560043666214, -1.6530085484822958, -26.67373480252808),\n",
    "    #  (-0.4692582625497324, 0.18316710716520687, 0.8638555978180245)]\n",
    "\n",
    "    notebook = True  # inline\n",
    "    cpos = None\n",
    "\n",
    "    same_color_bar = False\n",
    "\n",
    "    plot_graph_multi_3d_from_G_networkx_list(\n",
    "            G_list, \n",
    "            out_name=out_name, \n",
    "            nr=None,\n",
    "            attr=attr,\n",
    "            attr_label_list=attr_label_list, \n",
    "            attr_cmap_list=attr_cmap_list,\n",
    "            title_list=None, title_fontsize=12,\n",
    "            notebook=notebook, window_size=window_size, save_fig_png=save_fig_png, off_screen=off_screen,\n",
    "            filename_prefix=f'{fig_dir}/{fig_prefix}_{fig_counter:02d}',\n",
    "            with_labels=False, same_color_bar=same_color_bar, show_color_bar=True,\n",
    "            kwargs_edges=kwargs_edges, kwargs_pts=kwargs_pts, kwargs_scalar_bar=kwargs_scalar_bar, kwargs_pts_labels=kwargs_pts_labels,\n",
    "            cpos=cpos, print_cpos=False)\n"
   ]
  },
  {
   "cell_type": "code",
   "execution_count": null,
   "metadata": {},
   "outputs": [],
   "source": [
    "if save_fig_png:\n",
    "    fig_counter = fig_counter+1\n"
   ]
  },
  {
   "cell_type": "markdown",
   "metadata": {},
   "source": [
    "## Save / Export"
   ]
  },
  {
   "cell_type": "markdown",
   "metadata": {},
   "source": [
    "### Save the data set / test set (collections of (sub)graphs)"
   ]
  },
  {
   "cell_type": "code",
   "execution_count": null,
   "metadata": {},
   "outputs": [],
   "source": [
    "print('Save / export data set and test set...')\n",
    "\n",
    "# Save in pickle file\n",
    "# -------------------\n",
    "# data set\n",
    "with open(filename_data_set_pk, 'wb') as f: pickle.dump(G_list_data_set, file=f)\n",
    "# test set\n",
    "with open(filename_test_set_pk, 'wb') as f: pickle.dump(G_list_test_set, file=f)\n",
    "\n",
    "# Save in text files\n",
    "# ------------------\n",
    "# data set\n",
    "save_networkx_graph_list(G_list_data_set, out_dir, filename_data_set_basename_txt, node_attrs=['pos', attr])\n",
    "# test set\n",
    "save_networkx_graph_list(G_list_test_set, out_dir, filename_test_set_basename_txt, node_attrs=['pos', attr])"
   ]
  }
 ],
 "metadata": {
  "kernelspec": {
   "display_name": "py311",
   "language": "python",
   "name": "python3"
  },
  "language_info": {
   "codemirror_mode": {
    "name": "ipython",
    "version": 3
   },
   "file_extension": ".py",
   "mimetype": "text/x-python",
   "name": "python",
   "nbconvert_exporter": "python",
   "pygments_lexer": "ipython3",
   "version": "3.11.5"
  }
 },
 "nbformat": 4,
 "nbformat_minor": 2
}
