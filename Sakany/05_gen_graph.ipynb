{
 "cells": [
  {
   "cell_type": "markdown",
   "metadata": {},
   "source": [
    "# Graph generation with node features"
   ]
  },
  {
   "cell_type": "code",
   "execution_count": null,
   "metadata": {},
   "outputs": [],
   "source": [
    "import networkx\n",
    "import torch\n",
    "import numpy as np\n",
    "import matplotlib.pyplot as plt\n",
    "import time\n",
    "\n",
    "import pyvista as pv\n",
    "import os\n",
    "\n",
    "import pickle"
   ]
  },
  {
   "cell_type": "code",
   "execution_count": null,
   "metadata": {},
   "outputs": [],
   "source": [
    "# Choose backend for matplotlib\n",
    "# -----------------------------\n",
    "from IPython import get_ipython\n",
    "# get_ipython().run_line_magic('matplotlib', 'widget')\n",
    "get_ipython().run_line_magic('matplotlib', 'inline')\n",
    "\n",
    "# Or simply:\n",
    "# %matplotlib widget\n",
    "# %matplotlib inline"
   ]
  },
  {
   "cell_type": "code",
   "execution_count": null,
   "metadata": {},
   "outputs": [],
   "source": [
    "# Choose backend for pyvista with jupyter\n",
    "# ---------------------------------------\n",
    "# pv.set_jupyter_backend('trame')  # 3D-interactive plots\n",
    "pv.set_jupyter_backend('static') # static plots\n",
    "\n",
    "# Notes:\n",
    "# -> ignored if run in a standard python shell\n",
    "# -> use keyword argument \"notebook=False\" in Plotter() to open figure in a pop-up window"
   ]
  },
  {
   "cell_type": "markdown",
   "metadata": {},
   "source": [
    "## Load local functions "
   ]
  },
  {
   "cell_type": "code",
   "execution_count": null,
   "metadata": {},
   "outputs": [],
   "source": [
    "print('Load local functions...')\n",
    "\n",
    "# import sys\n",
    "# sys.path.insert(1, '../utils/')\n",
    "\n",
    "# from graph_utils import *\n",
    "# from graph_rnn import *\n",
    "# from graph_ddpm import *\n",
    "# from ml_utils import *\n",
    "# from graph_plot import *\n",
    "# # from magic_utils import *\n",
    " \n",
    "with open('../utils/graph_utils.py') as f: exec(f.read())\n",
    "with open('../utils/graph_rnn.py') as f: exec(f.read())\n",
    "with open('../utils/graph_ddpm.py') as f: exec(f.read())\n",
    "with open('../utils/ml_utils.py') as f: exec(f.read())\n",
    "with open('../utils/graph_plot.py') as f: exec(f.read())\n",
    "# with open('../utils/magic_utils.py') as f: exec(f.read())"
   ]
  },
  {
   "cell_type": "markdown",
   "metadata": {},
   "source": [
    "## Load parameters\n",
    "\n",
    "Some parameters (dimension / attribute considered and indexes / parameters for plotting graphs)\n"
   ]
  },
  {
   "cell_type": "code",
   "execution_count": null,
   "metadata": {},
   "outputs": [],
   "source": [
    "print('Load parameters...')\n",
    "\n",
    "# from params import *\n",
    "\n",
    "with open('params.py') as f: exec(f.read())"
   ]
  },
  {
   "cell_type": "markdown",
   "metadata": {},
   "source": [
    "## Output settings\n",
    "For saving generated graphs."
   ]
  },
  {
   "cell_type": "code",
   "execution_count": null,
   "metadata": {},
   "outputs": [],
   "source": [
    "print('Define output settings...')\n",
    "\n",
    "# Output directory (for saving)\n",
    "# -----------------------------\n",
    "out_dir = 'out_gen_graph' # output directory\n",
    "\n",
    "fig_dir = 'fig'      # PARAMS\n",
    "\n",
    "plt_show = True      # PARAMS (show graphics 2D ?)\n",
    "off_screen = False   # PARAMS (show graphics 3D ?)\n",
    "\n",
    "save_fig_png = True  # PARAMS\n",
    "fig_prefix = '05'    # PARAMS\n",
    "\n",
    "fig_counter = 0\n",
    "\n",
    "if not os.path.isdir(out_dir):\n",
    "    os.mkdir(out_dir)\n",
    "\n",
    "if not os.path.isdir(fig_dir):\n",
    "    os.mkdir(fig_dir)\n",
    "\n",
    "# Files for saving generated graphs (pickle / txt) (see further)\n",
    "# --------------------------------------------------------------\n",
    "filename_gen_graph_pk = os.path.join(out_dir, f'gen_graph_list.pickle')\n",
    "filename_gen_graph_basename_txt = 'gen_graph_list'\n"
   ]
  },
  {
   "cell_type": "markdown",
   "metadata": {},
   "source": [
    "## Load the models (graphRNN and graphDDPM)\n"
   ]
  },
  {
   "cell_type": "code",
   "execution_count": null,
   "metadata": {},
   "outputs": [],
   "source": [
    "print('Load the models (graphRNN and graphDDPM)...')\n",
    " \n",
    "# RNNs models\n",
    "# -----------\n",
    "in_dir_rnn = 'out_graphRNN_model' # input directory\n",
    "\n",
    "if not os.path.isdir(in_dir_rnn):\n",
    "    print('ERROR: no input directory (rnn model)')\n",
    "\n",
    "filename_hyper_param_G = os.path.join(in_dir_rnn, 'rnn_G_hyper_params.txt')\n",
    "filename_hyper_param_E = os.path.join(in_dir_rnn, 'rnn_E_hyper_params.txt')\n",
    "filename_param_G = os.path.join(in_dir_rnn, 'rnn_G.params')\n",
    "filename_param_E = os.path.join(in_dir_rnn, 'rnn_E.params')\n",
    "\n",
    "# DDPM model\n",
    "# ----------\n",
    "in_dir_ddpm = 'out_graphDDPM_model' # input directory\n",
    "\n",
    "if not os.path.isdir(in_dir_ddpm):\n",
    "    print('ERROR: no input directory (ddpm model)')\n",
    "\n",
    "filename_hyper_param_ddpm_net = os.path.join(in_dir_ddpm, 'ddpm_net_hyper_params.txt')\n",
    "filename_hyper_param_ddpm     = os.path.join(in_dir_ddpm, 'ddpm_hyper_params.txt')\n",
    "\n",
    "filename_param_ddpm     = os.path.join(in_dir_ddpm, 'ddpm.params')\n",
    "\n",
    "# node features shift and scale factor from data set\n",
    "filename_data_set_ddpm_shift = os.path.join(in_dir_ddpm, f'data_set_shift.txt')\n",
    "filename_data_set_ddpm_scale_factor = os.path.join(in_dir_ddpm, f'data_set_scale_factor.txt')\n"
   ]
  },
  {
   "cell_type": "markdown",
   "metadata": {},
   "source": [
    "### Load the RNN models (hyper parameters and parameters)"
   ]
  },
  {
   "cell_type": "code",
   "execution_count": null,
   "metadata": {},
   "outputs": [],
   "source": [
    "# Load model\n",
    "\n",
    "# rnn_G \n",
    "# =====\n",
    "# Hyper parameters (design of the model)\n",
    "with open(filename_hyper_param_G, 'r') as f: rnn_G_hyper_params = eval(f.read())\n",
    "\n",
    "# RNN model (parameters)\n",
    "rnn_G = RNN_model(**rnn_G_hyper_params)\n",
    "rnn_G.load_state_dict(torch.load(filename_param_G))\n",
    "\n",
    "# rnn_E \n",
    "# =====\n",
    "# Hyper parameters (design of the model)\n",
    "with open(filename_hyper_param_E, 'r') as f: rnn_E_hyper_params = eval(f.read())\n",
    "\n",
    "# RNN model (parameters)\n",
    "rnn_E = RNN_model(**rnn_E_hyper_params)\n",
    "rnn_E.load_state_dict(torch.load(filename_param_E))"
   ]
  },
  {
   "cell_type": "markdown",
   "metadata": {},
   "source": [
    "### Load the DDPM model (hyper parameters and parameters)"
   ]
  },
  {
   "cell_type": "code",
   "execution_count": null,
   "metadata": {},
   "outputs": [],
   "source": [
    "# Define activation function as they appear in hyper parameters...\n",
    "from torch.nn import LeakyReLU, ReLU, SiLU, Sigmoid, Tanh\n",
    "\n",
    "# Load model\n",
    "\n",
    "# # Hyper parameters (design of the model)\n",
    "# with open(filename_hyper_param_ddpm_net, 'r') as f: ddpm_net_hyper_params = json.load(f)\n",
    "# with open(filename_hyper_param_ddpm, 'r') as f: ddpm_hyper_params = json.load(f)\n",
    "\n",
    "# Hyper parameters (design of the model)\n",
    "with open(filename_hyper_param_ddpm_net, 'r') as f: ddpm_net_hyper_params = eval(f.read())\n",
    "with open(filename_hyper_param_ddpm, 'r')     as f: ddpm_hyper_params = eval(f.read())\n",
    "\n",
    "\n",
    "# Model (parameters)\n",
    "ddpm = Graph_DDPM(Graph_DDPM_net_model(**ddpm_net_hyper_params), **ddpm_hyper_params)\n",
    "ddpm.load_state_dict(torch.load(filename_param_ddpm))"
   ]
  },
  {
   "cell_type": "code",
   "execution_count": null,
   "metadata": {},
   "outputs": [],
   "source": [
    "# Load node features shift and scale factor\n",
    "with open(filename_data_set_ddpm_shift, 'r') as f: node_features_shift = np.loadtxt(f)\n",
    "with open(filename_data_set_ddpm_scale_factor, 'r') as f: node_features_scale_factor = np.loadtxt(f)\n",
    "\n",
    "node_features_shift_inv = - node_features_shift\n",
    "node_features_scale_factor_inv = 1.0 / node_features_scale_factor\n",
    "\n",
    "n_node_features = len(node_features_scale_factor)"
   ]
  },
  {
   "cell_type": "markdown",
   "metadata": {},
   "source": [
    "### Display the RNN models design"
   ]
  },
  {
   "cell_type": "code",
   "execution_count": null,
   "metadata": {},
   "outputs": [],
   "source": [
    "# print('Display the model (graphRNN)...')\n",
    "\n",
    "# print('\\n')\n",
    "# print('rnn_G\\n-----')\n",
    "# print(rnn_G)\n",
    "# print(f'Number of (learnable) params: {nb_net_params(rnn_G)}')\n",
    "\n",
    "# print('\\n')\n",
    "# print('rnn_E\\n-----')\n",
    "# print(rnn_E)\n",
    "# print(f'Number of (learnable) params: {nb_net_params(rnn_E)}')"
   ]
  },
  {
   "cell_type": "markdown",
   "metadata": {},
   "source": [
    "### Display the DDPM model design"
   ]
  },
  {
   "cell_type": "code",
   "execution_count": null,
   "metadata": {},
   "outputs": [],
   "source": [
    "# print('Display the model (graphDDPM)...')\n",
    "\n",
    "# print(ddpm)\n",
    "# print(f'Number of (learnable) params: {nb_net_params(ddpm)}')"
   ]
  },
  {
   "cell_type": "markdown",
   "metadata": {},
   "source": [
    "## Generate graphs"
   ]
  },
  {
   "cell_type": "markdown",
   "metadata": {},
   "source": [
    "### Generate topology"
   ]
  },
  {
   "cell_type": "code",
   "execution_count": null,
   "metadata": {},
   "outputs": [],
   "source": [
    "print('Generate graphs - topology (using graphRNN model)...')\n",
    "\n",
    "n_graph = 500\n",
    "\n",
    "max_n_nodes = 10000 # should not be reached...\n",
    "# max_n_nodes = 200\n",
    "min_n_nodes = 5 # will re-draw graph(s) if fewer nodes\n",
    "\n",
    "torch.random.manual_seed(2304)\n",
    "\n",
    "t1 = time.time()\n",
    "G_gen_list = generate_graph_min_n_nodes(\n",
    "    rnn_G,\n",
    "    rnn_E,\n",
    "    min_n_nodes=min_n_nodes,\n",
    "    max_n_nodes=max_n_nodes,\n",
    "    n_graph=n_graph,\n",
    "    force_node1=False,\n",
    "    return_encoded=False,\n",
    "    device=torch.device('cuda:0')\n",
    ")\n",
    "t2 = time.time()\n",
    "print(f'Elapsed time for generating {n_graph} graph(s): {t2-t1:.3g} s')"
   ]
  },
  {
   "cell_type": "markdown",
   "metadata": {},
   "source": [
    "### Generate node features"
   ]
  },
  {
   "cell_type": "code",
   "execution_count": null,
   "metadata": {},
   "outputs": [],
   "source": [
    "print('Generate node features (using graphDDPM model)...')\n",
    "\n",
    "# Generate node features (position) (inplace)\n",
    "torch.random.manual_seed(214)\n",
    "\n",
    "end_rescale = node_features_scale_factor_inv\n",
    "end_center = node_features_shift_inv\n",
    "\n",
    "t1 = time.time()\n",
    "G_gen_list = generate_list_graph_node_features(\n",
    "                G_gen_list, \n",
    "                ddpm, \n",
    "                attr='x', \n",
    "                end_rescale=end_rescale,\n",
    "                end_center=end_center, \n",
    "                device=torch.device('cuda:0'))\n",
    "t2 = time.time()\n",
    "\n",
    "print(f'Elapsed time for generating {n_graph} graph(s) - node features: {t2-t1:.3g} s')"
   ]
  },
  {
   "cell_type": "code",
   "execution_count": null,
   "metadata": {},
   "outputs": [],
   "source": [
    "print('Set networkx representation of generated graphs with position and other attributes separated...')\n",
    "\n",
    "# Set networkx representation of generated graphs with position and other attributes separated\n",
    "for G in G_gen_list:\n",
    "    v = np.asarray(list(networkx.get_node_attributes(G, 'x').values()))\n",
    "    remove_node_attribute(G, 'x')\n",
    "\n",
    "    dict_pos = {i:vi[:dim].tolist() for i, vi in enumerate(v)}\n",
    "    networkx.set_node_attributes(G, dict_pos, 'pos')\n",
    "\n",
    "    if attr is not None:\n",
    "        dict_attr = {i:vi[dim:].tolist() for i, vi in enumerate(v)}\n",
    "        networkx.set_node_attributes(G, dict_attr, attr)\n",
    "        "
   ]
  },
  {
   "cell_type": "markdown",
   "metadata": {},
   "source": [
    "### Show first generated graphs"
   ]
  },
  {
   "cell_type": "code",
   "execution_count": null,
   "metadata": {},
   "outputs": [],
   "source": [
    "out_name = 'gen_graphs'"
   ]
  },
  {
   "cell_type": "code",
   "execution_count": null,
   "metadata": {},
   "outputs": [],
   "source": [
    "print('Plot first generated graphs (2D)...')\n",
    "\n",
    "# 2D view \n",
    "# =======\n",
    "kwds = kwds_multi.copy()\n",
    "\n",
    "figsize = figsize_multi\n",
    "# -----\n",
    "\n",
    "ng = 16\n",
    "ng = min(len(G_gen_list), ng)\n",
    "\n",
    "same_color_bar = False\n",
    "\n",
    "plot_graph_multi_2d_from_G_networkx_list(\n",
    "        G_gen_list[:ng], \n",
    "        out_name=out_name, \n",
    "        nr=None,\n",
    "        attr=attr,\n",
    "        attr_label_list=attr_label_list, \n",
    "        attr_cmap_list=attr_cmap_list,\n",
    "        title_list=None, title_fontsize=12,\n",
    "        figsize=figsize, save_fig_png=save_fig_png, \n",
    "        filename_prefix=f'{fig_dir}/{fig_prefix}_{fig_counter:02d}',\n",
    "        with_labels=False, same_color_bar=same_color_bar, show_color_bar=True,\n",
    "        show=plt_show,\n",
    "        **kwds)"
   ]
  },
  {
   "cell_type": "code",
   "execution_count": null,
   "metadata": {},
   "outputs": [],
   "source": [
    "# %%skip_if dim == 2\n",
    "if dim == 3:\n",
    "    print('Plot first generated graphs (3D)...')\n",
    "\n",
    "    # 3D view \n",
    "    # =======\n",
    "    kwargs_edges = kwargs_edges_multi.copy()\n",
    "    kwargs_pts = kwargs_pts_multi.copy()\n",
    "    kwargs_pts_labels = kwargs_pts_labels_multi.copy()\n",
    "    kwargs_scalar_bar = kwargs_scalar_bar_multi.copy()\n",
    "\n",
    "    window_size = window_size_multi\n",
    "    # -----\n",
    "\n",
    "    ng = 9\n",
    "    ng = min(len(G_gen_list), ng)\n",
    "\n",
    "    # notebook = False # pop-up window\n",
    "    # cpos = None\n",
    "\n",
    "    # notebook = True  # inline\n",
    "    # cpos = \\\n",
    "    # [(410.42840368821584, -176.08643814594834, 230.59557647292922),\n",
    "    #  (4.909560043666214, -1.6530085484822958, -26.67373480252808),\n",
    "    #  (-0.4692582625497324, 0.18316710716520687, 0.8638555978180245)]\n",
    "\n",
    "    notebook = True  # inline\n",
    "    cpos = None\n",
    "\n",
    "    same_color_bar = False\n",
    "\n",
    "    plot_graph_multi_3d_from_G_networkx_list(\n",
    "            G_gen_list[:ng], \n",
    "            out_name=out_name, \n",
    "            nr=None,\n",
    "            attr=attr,\n",
    "            attr_label_list=attr_label_list, \n",
    "            attr_cmap_list=attr_cmap_list,\n",
    "            title_list=None, title_fontsize=12,\n",
    "            notebook=notebook, window_size=window_size, save_fig_png=save_fig_png, off_screen=off_screen,\n",
    "            filename_prefix=f'{fig_dir}/{fig_prefix}_{fig_counter:02d}',\n",
    "            with_labels=False, same_color_bar=same_color_bar, show_color_bar=True,\n",
    "            kwargs_edges=kwargs_edges, kwargs_pts=kwargs_pts, kwargs_scalar_bar=kwargs_scalar_bar, kwargs_pts_labels=kwargs_pts_labels,\n",
    "            cpos=cpos, print_cpos=False)"
   ]
  },
  {
   "cell_type": "code",
   "execution_count": null,
   "metadata": {},
   "outputs": [],
   "source": [
    "# Select single graph\n",
    "# ===================\n",
    "ind = 0\n",
    "G = G_gen_list[ind]\n",
    "\n",
    "out_name = f'gen_graphs_real_{ind}'"
   ]
  },
  {
   "cell_type": "code",
   "execution_count": null,
   "metadata": {},
   "outputs": [],
   "source": [
    "print('Plot single selected generated graph (2D)...')\n",
    "\n",
    "# Plot 2D - single generated graph\n",
    "# =======\n",
    "kwds = kwds_single.copy()\n",
    "\n",
    "figsize = figsize_single\n",
    "# -----\n",
    "\n",
    "plot_graph_single_2d_from_G_networkx(\n",
    "        G, \n",
    "        out_name=out_name, \n",
    "        attr=attr,\n",
    "        attr_label_list=attr_label_list, \n",
    "        attr_cmap_list=attr_cmap_list,\n",
    "        title=None, title_fontsize=12,\n",
    "        figsize=figsize, save_fig_png=save_fig_png, \n",
    "        filename_prefix=f'{fig_dir}/{fig_prefix}_{fig_counter:02d}',\n",
    "        with_labels=False, show_color_bar=True,\n",
    "        show=plt_show,\n",
    "        **kwds)"
   ]
  },
  {
   "cell_type": "code",
   "execution_count": null,
   "metadata": {},
   "outputs": [],
   "source": [
    "# %%skip_if dim == 2\n",
    "if dim == 3:\n",
    "    print('Plot single selected generated graph (3D)...')\n",
    "\n",
    "    # Plot 3D - single graph\n",
    "    # =======\n",
    "    kwargs_edges = kwargs_edges_single.copy()\n",
    "    kwargs_pts = kwargs_pts_single.copy()\n",
    "    kwargs_pts_labels = kwargs_pts_labels_single.copy()\n",
    "    kwargs_scalar_bar = kwargs_scalar_bar_single.copy()\n",
    "\n",
    "    window_size = window_size_single\n",
    "    # -----\n",
    "\n",
    "    # notebook = False # pop-up window\n",
    "    # cpos = None\n",
    "\n",
    "    # notebook = True  # inline\n",
    "    # cpos = \\\n",
    "    # [(517786.43175783526, 171033.62200323722, 3228.2267989145184),\n",
    "    #  (516160.734375, 171889.74, 813.3000061035157),\n",
    "    #  (-0.798043530972574, 0.13872899139143935, 0.5864134971334989)]\n",
    "\n",
    "    notebook = True  # inline\n",
    "    cpos = None\n",
    "\n",
    "    plot_graph_single_3d_from_G_networkx(\n",
    "            G, \n",
    "            out_name=out_name, \n",
    "            attr=attr,\n",
    "            attr_label_list=attr_label_list, \n",
    "            attr_cmap_list=attr_cmap_list,\n",
    "            title=None, title_fontsize=12,\n",
    "            notebook=notebook, window_size=window_size, save_fig_png=save_fig_png, off_screen=off_screen,\n",
    "            filename_prefix=f'{fig_dir}/{fig_prefix}_{fig_counter:02d}',\n",
    "            with_labels=False, show_color_bar=True,\n",
    "            kwargs_edges=kwargs_edges, kwargs_pts=kwargs_pts, kwargs_scalar_bar=kwargs_scalar_bar, kwargs_pts_labels=kwargs_pts_labels,\n",
    "            cpos=cpos, print_cpos=False)\n"
   ]
  },
  {
   "cell_type": "code",
   "execution_count": null,
   "metadata": {},
   "outputs": [],
   "source": [
    "print('Plot histogram of node features...')\n",
    "\n",
    "# Histogram of each node feature (coordinates of postion and attributes)\n",
    "# ======================================================================\n",
    "if dim==2:\n",
    "    leg = ['x-coord', 'y-coord']\n",
    "    col = ['tab:blue', 'tab:orange']\n",
    "else:\n",
    "    leg = ['x-coord', 'y-coord', 'z-coord']\n",
    "    col = ['tab:blue', 'tab:orange', 'tab:purple']\n",
    "\n",
    "if attr is not None:\n",
    "    leg = leg + attr_label_list\n",
    "    col = col + attr_ncomp*['tab:green']\n",
    "\n",
    "ng = len(leg)\n",
    "nr = int(np.sqrt(ng))\n",
    "nc = ng//nr + (ng%nr>0)\n",
    "\n",
    "figsize = (figsize_lh3[0], figsize_lh3[1]*nr*.75)\n",
    "\n",
    "out_name = f'gen_graphs_stats_node_features'\n",
    "\n",
    "x_features = np.vstack([list(networkx.get_node_attributes(G, 'pos').values()) for G in G_gen_list])\n",
    "if attr is not None:\n",
    "    v = np.vstack([list(networkx.get_node_attributes(G, attr).values()) for G in G_gen_list])\n",
    "    x_features = np.hstack((x_features, v))\n",
    "\n",
    "# Plot\n",
    "# ----\n",
    "plt.subplots(nr, nc, figsize=figsize)\n",
    "for i, (label, color) in enumerate(zip(leg, col)):\n",
    "    plt.subplot(nr, nc, i+1)\n",
    "    plt.hist(x_features[:, i], density=True, bins=50, color=color, label=label)\n",
    "    plt.title(f'{label}')\n",
    "    # plt.legend()\n",
    "\n",
    "for i in range(ng, nr*nc):\n",
    "    plt.subplot(nr, nc, i+1)\n",
    "    plt.axis('off')\n",
    "\n",
    "plt.suptitle(f'{out_name} - {len(G_gen_list)} graphs')\n",
    "\n",
    "if save_fig_png:\n",
    "    plt.tight_layout()\n",
    "    plt.savefig(f'{fig_dir}/{fig_prefix}_{fig_counter:02d}_{out_name}.png')\n",
    "\n",
    "if plt_show:\n",
    "    plt.show()\n",
    "else:\n",
    "    plt.close()\n"
   ]
  },
  {
   "cell_type": "code",
   "execution_count": null,
   "metadata": {},
   "outputs": [],
   "source": [
    "if save_fig_png:\n",
    "    fig_counter = fig_counter+1"
   ]
  },
  {
   "cell_type": "markdown",
   "metadata": {},
   "source": [
    "## Save / Export"
   ]
  },
  {
   "cell_type": "markdown",
   "metadata": {},
   "source": [
    "### Save the list of generated graphs"
   ]
  },
  {
   "cell_type": "code",
   "execution_count": null,
   "metadata": {},
   "outputs": [],
   "source": [
    "print('Save / export the list of generated graphs...')\n",
    "\n",
    "# Save pickle\n",
    "with open(filename_gen_graph_pk, 'wb') as f: pickle.dump(G_gen_list, file=f)\n",
    "\n",
    "# Save txt\n",
    "if attr is not None:\n",
    "    node_attrs      = ['pos', attr]\n",
    "else:\n",
    "    node_attrs      = ['pos']\n",
    "\n",
    "save_networkx_graph_list(\n",
    "    G_gen_list,\n",
    "    out_dir, \n",
    "    filename_gen_graph_basename_txt,\n",
    "    suffix_nodes='_nodes.dat',\n",
    "    suffix_edges='_links.dat', \n",
    "    delimiter_nodes=' ',\n",
    "    delimiter_edges=' ',\n",
    "    node_attrs=node_attrs,\n",
    "    fmt_nodes='%.10g',\n",
    "    fmt_edges='%i')\n"
   ]
  }
 ],
 "metadata": {
  "kernelspec": {
   "display_name": "py311",
   "language": "python",
   "name": "python3"
  },
  "language_info": {
   "codemirror_mode": {
    "name": "ipython",
    "version": 3
   },
   "file_extension": ".py",
   "mimetype": "text/x-python",
   "name": "python",
   "nbconvert_exporter": "python",
   "pygments_lexer": "ipython3",
   "version": "3.11.5"
  }
 },
 "nbformat": 4,
 "nbformat_minor": 2
}
